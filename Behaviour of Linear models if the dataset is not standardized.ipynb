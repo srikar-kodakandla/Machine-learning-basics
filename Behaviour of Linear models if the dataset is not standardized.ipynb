{
 "cells": [
  {
   "cell_type": "markdown",
   "metadata": {},
   "source": [
    "### Behaviour of Logistic Regression and SVM if the dataset is not standardized"
   ]
  },
  {
   "cell_type": "code",
   "execution_count": 1,
   "metadata": {
    "colab": {
     "base_uri": "https://localhost:8080/",
     "height": 17
    },
    "execution": {
     "iopub.execute_input": "2022-07-23T10:11:40.218027Z",
     "iopub.status.busy": "2022-07-23T10:11:40.217842Z",
     "iopub.status.idle": "2022-07-23T10:11:41.614558Z",
     "shell.execute_reply": "2022-07-23T10:11:41.613928Z",
     "shell.execute_reply.started": "2022-07-23T10:11:40.217970Z"
    },
    "executionInfo": {
     "elapsed": 2925,
     "status": "ok",
     "timestamp": 1639466881941,
     "user": {
      "displayName": "srikar kodakandla",
      "photoUrl": "https://lh3.googleusercontent.com/a-/AOh14GgQiUVrWQ2HwkHrrUHfH0fJQ3Kb3tyvoo0pw9ZvXw=s64",
      "userId": "15283157482374888355"
     },
     "user_tz": -330
    },
    "id": "8ArWK463kbhL",
    "outputId": "a7d53a9a-26d6-403e-e67f-30ea7c0435f7",
    "tags": []
   },
   "outputs": [
    {
     "data": {
      "text/html": [
       "        <script type=\"text/javascript\">\n",
       "        window.PlotlyConfig = {MathJaxConfig: 'local'};\n",
       "        if (window.MathJax && window.MathJax.Hub && window.MathJax.Hub.Config) {window.MathJax.Hub.Config({SVG: {font: \"STIX-Web\"}});}\n",
       "        if (typeof require !== 'undefined') {\n",
       "        require.undef(\"plotly\");\n",
       "        requirejs.config({\n",
       "            paths: {\n",
       "                'plotly': ['https://cdn.plot.ly/plotly-2.12.1.min']\n",
       "            }\n",
       "        });\n",
       "        require(['plotly'], function(Plotly) {\n",
       "            window._Plotly = Plotly;\n",
       "        });\n",
       "        }\n",
       "        </script>\n",
       "        "
      ]
     },
     "metadata": {},
     "output_type": "display_data"
    }
   ],
   "source": [
    "import numpy as np\n",
    "import pandas as pd\n",
    "import plotly\n",
    "import plotly.figure_factory as ff\n",
    "import plotly.graph_objs as go\n",
    "from sklearn.linear_model import LogisticRegression\n",
    "from sklearn.preprocessing import StandardScaler\n",
    "from sklearn.linear_model import SGDClassifier\n",
    "from sklearn.preprocessing import MinMaxScaler\n",
    "import matplotlib.pyplot as plt\n",
    "from plotly.offline import download_plotlyjs, init_notebook_mode, plot, iplot\n",
    "init_notebook_mode(connected=True)"
   ]
  },
  {
   "cell_type": "code",
   "execution_count": 2,
   "metadata": {
    "execution": {
     "iopub.execute_input": "2022-07-23T10:11:41.616116Z",
     "iopub.status.busy": "2022-07-23T10:11:41.615952Z",
     "iopub.status.idle": "2022-07-23T10:11:49.912712Z",
     "shell.execute_reply": "2022-07-23T10:11:49.912018Z",
     "shell.execute_reply.started": "2022-07-23T10:11:41.616095Z"
    },
    "id": "5mldzJdakbhS",
    "tags": []
   },
   "outputs": [],
   "source": [
    "data = pd.read_csv('/home/ubuntu/drive_kodakandlasrikar99/aaic/8_LinearModels/task_b.csv')"
   ]
  },
  {
   "cell_type": "code",
   "execution_count": 3,
   "metadata": {
    "execution": {
     "iopub.execute_input": "2022-07-23T10:11:49.914150Z",
     "iopub.status.busy": "2022-07-23T10:11:49.913805Z",
     "iopub.status.idle": "2022-07-23T10:11:49.918176Z",
     "shell.execute_reply": "2022-07-23T10:11:49.917525Z",
     "shell.execute_reply.started": "2022-07-23T10:11:49.914127Z"
    },
    "tags": []
   },
   "outputs": [],
   "source": [
    "data=data.iloc[:,1:]"
   ]
  },
  {
   "cell_type": "code",
   "execution_count": 4,
   "metadata": {
    "colab": {
     "base_uri": "https://localhost:8080/",
     "height": 206
    },
    "execution": {
     "iopub.execute_input": "2022-07-23T10:11:49.919143Z",
     "iopub.status.busy": "2022-07-23T10:11:49.918984Z",
     "iopub.status.idle": "2022-07-23T10:11:49.934172Z",
     "shell.execute_reply": "2022-07-23T10:11:49.933565Z",
     "shell.execute_reply.started": "2022-07-23T10:11:49.919124Z"
    },
    "executionInfo": {
     "elapsed": 374,
     "status": "ok",
     "timestamp": 1639466972388,
     "user": {
      "displayName": "srikar kodakandla",
      "photoUrl": "https://lh3.googleusercontent.com/a-/AOh14GgQiUVrWQ2HwkHrrUHfH0fJQ3Kb3tyvoo0pw9ZvXw=s64",
      "userId": "15283157482374888355"
     },
     "user_tz": -330
    },
    "id": "rsCrC2wckbhV",
    "outputId": "28824c57-754e-4f23-8fd8-12b971e61e19",
    "scrolled": true,
    "tags": []
   },
   "outputs": [
    {
     "data": {
      "text/html": [
       "<div>\n",
       "<style scoped>\n",
       "    .dataframe tbody tr th:only-of-type {\n",
       "        vertical-align: middle;\n",
       "    }\n",
       "\n",
       "    .dataframe tbody tr th {\n",
       "        vertical-align: top;\n",
       "    }\n",
       "\n",
       "    .dataframe thead th {\n",
       "        text-align: right;\n",
       "    }\n",
       "</style>\n",
       "<table border=\"1\" class=\"dataframe\">\n",
       "  <thead>\n",
       "    <tr style=\"text-align: right;\">\n",
       "      <th></th>\n",
       "      <th>f1</th>\n",
       "      <th>f2</th>\n",
       "      <th>f3</th>\n",
       "      <th>y</th>\n",
       "    </tr>\n",
       "  </thead>\n",
       "  <tbody>\n",
       "    <tr>\n",
       "      <th>0</th>\n",
       "      <td>-195.871045</td>\n",
       "      <td>-14843.084171</td>\n",
       "      <td>5.532140</td>\n",
       "      <td>1.0</td>\n",
       "    </tr>\n",
       "    <tr>\n",
       "      <th>1</th>\n",
       "      <td>-1217.183964</td>\n",
       "      <td>-4068.124621</td>\n",
       "      <td>4.416082</td>\n",
       "      <td>1.0</td>\n",
       "    </tr>\n",
       "    <tr>\n",
       "      <th>2</th>\n",
       "      <td>9.138451</td>\n",
       "      <td>4413.412028</td>\n",
       "      <td>0.425317</td>\n",
       "      <td>0.0</td>\n",
       "    </tr>\n",
       "    <tr>\n",
       "      <th>3</th>\n",
       "      <td>363.824242</td>\n",
       "      <td>15474.760647</td>\n",
       "      <td>1.094119</td>\n",
       "      <td>0.0</td>\n",
       "    </tr>\n",
       "    <tr>\n",
       "      <th>4</th>\n",
       "      <td>-768.812047</td>\n",
       "      <td>-7963.932192</td>\n",
       "      <td>1.870536</td>\n",
       "      <td>0.0</td>\n",
       "    </tr>\n",
       "  </tbody>\n",
       "</table>\n",
       "</div>"
      ],
      "text/plain": [
       "            f1            f2        f3    y\n",
       "0  -195.871045 -14843.084171  5.532140  1.0\n",
       "1 -1217.183964  -4068.124621  4.416082  1.0\n",
       "2     9.138451   4413.412028  0.425317  0.0\n",
       "3   363.824242  15474.760647  1.094119  0.0\n",
       "4  -768.812047  -7963.932192  1.870536  0.0"
      ]
     },
     "execution_count": 4,
     "metadata": {},
     "output_type": "execute_result"
    }
   ],
   "source": [
    "data.head()"
   ]
  },
  {
   "cell_type": "code",
   "execution_count": 5,
   "metadata": {
    "colab": {
     "base_uri": "https://localhost:8080/"
    },
    "execution": {
     "iopub.execute_input": "2022-07-23T10:11:49.935595Z",
     "iopub.status.busy": "2022-07-23T10:11:49.934942Z",
     "iopub.status.idle": "2022-07-23T10:11:49.942638Z",
     "shell.execute_reply": "2022-07-23T10:11:49.941412Z",
     "shell.execute_reply.started": "2022-07-23T10:11:49.935573Z"
    },
    "executionInfo": {
     "elapsed": 4,
     "status": "ok",
     "timestamp": 1639466972945,
     "user": {
      "displayName": "srikar kodakandla",
      "photoUrl": "https://lh3.googleusercontent.com/a-/AOh14GgQiUVrWQ2HwkHrrUHfH0fJQ3Kb3tyvoo0pw9ZvXw=s64",
      "userId": "15283157482374888355"
     },
     "user_tz": -330
    },
    "id": "FI18joJ_kbhZ",
    "outputId": "89521b5b-0067-4ff5-8579-94280cad440c",
    "tags": []
   },
   "outputs": [
    {
     "data": {
      "text/plain": [
       "f1    0.067172\n",
       "f2   -0.017944\n",
       "f3    0.839060\n",
       "y     1.000000\n",
       "Name: y, dtype: float64"
      ]
     },
     "execution_count": 5,
     "metadata": {},
     "output_type": "execute_result"
    }
   ],
   "source": [
    "data.corr()['y']"
   ]
  },
  {
   "cell_type": "markdown",
   "metadata": {},
   "source": [
    "#### by seeing the correlation we can say that , f3 is more important and f2,f1 are not important "
   ]
  },
  {
   "cell_type": "code",
   "execution_count": 6,
   "metadata": {
    "colab": {
     "base_uri": "https://localhost:8080/"
    },
    "execution": {
     "iopub.execute_input": "2022-07-23T10:11:49.944159Z",
     "iopub.status.busy": "2022-07-23T10:11:49.943907Z",
     "iopub.status.idle": "2022-07-23T10:11:49.949719Z",
     "shell.execute_reply": "2022-07-23T10:11:49.949081Z",
     "shell.execute_reply.started": "2022-07-23T10:11:49.944139Z"
    },
    "executionInfo": {
     "elapsed": 384,
     "status": "ok",
     "timestamp": 1639466976409,
     "user": {
      "displayName": "srikar kodakandla",
      "photoUrl": "https://lh3.googleusercontent.com/a-/AOh14GgQiUVrWQ2HwkHrrUHfH0fJQ3Kb3tyvoo0pw9ZvXw=s64",
      "userId": "15283157482374888355"
     },
     "user_tz": -330
    },
    "id": "u40oCVMikbhc",
    "outputId": "bd4f352a-91fd-473d-c8df-744febe4f14e",
    "scrolled": true,
    "tags": []
   },
   "outputs": [
    {
     "data": {
      "text/plain": [
       "f1      488.195035\n",
       "f2    10403.417325\n",
       "f3        2.926662\n",
       "y         0.501255\n",
       "dtype: float64"
      ]
     },
     "execution_count": 6,
     "metadata": {},
     "output_type": "execute_result"
    }
   ],
   "source": [
    "data.std()"
   ]
  },
  {
   "cell_type": "code",
   "execution_count": 7,
   "metadata": {
    "colab": {
     "base_uri": "https://localhost:8080/"
    },
    "execution": {
     "iopub.execute_input": "2022-07-23T10:11:49.952559Z",
     "iopub.status.busy": "2022-07-23T10:11:49.952227Z",
     "iopub.status.idle": "2022-07-23T10:11:49.957865Z",
     "shell.execute_reply": "2022-07-23T10:11:49.957158Z",
     "shell.execute_reply.started": "2022-07-23T10:11:49.952537Z"
    },
    "executionInfo": {
     "elapsed": 8,
     "status": "ok",
     "timestamp": 1639466977632,
     "user": {
      "displayName": "srikar kodakandla",
      "photoUrl": "https://lh3.googleusercontent.com/a-/AOh14GgQiUVrWQ2HwkHrrUHfH0fJQ3Kb3tyvoo0pw9ZvXw=s64",
      "userId": "15283157482374888355"
     },
     "user_tz": -330
    },
    "id": "yQIbNaHskbhe",
    "outputId": "50493263-a1b2-4823-dd91-d02fdfe79db7",
    "tags": []
   },
   "outputs": [
    {
     "name": "stdout",
     "output_type": "stream",
     "text": [
      "(200, 3)\n",
      "(200,)\n"
     ]
    }
   ],
   "source": [
    "X=data[['f1','f2','f3']].values\n",
    "Y=data['y'].values\n",
    "print(X.shape)\n",
    "print(Y.shape)"
   ]
  },
  {
   "cell_type": "code",
   "execution_count": 8,
   "metadata": {
    "execution": {
     "iopub.execute_input": "2022-07-23T10:11:49.958882Z",
     "iopub.status.busy": "2022-07-23T10:11:49.958731Z",
     "iopub.status.idle": "2022-07-23T10:11:49.964362Z",
     "shell.execute_reply": "2022-07-23T10:11:49.963648Z",
     "shell.execute_reply.started": "2022-07-23T10:11:49.958864Z"
    },
    "id": "nYj3_4TNLuJo",
    "tags": []
   },
   "outputs": [],
   "source": [
    "X=data[['f1','f2','f3']].to_numpy()"
   ]
  },
  {
   "cell_type": "code",
   "execution_count": 9,
   "metadata": {
    "execution": {
     "iopub.execute_input": "2022-07-23T10:11:49.965777Z",
     "iopub.status.busy": "2022-07-23T10:11:49.965592Z",
     "iopub.status.idle": "2022-07-23T10:11:49.969473Z",
     "shell.execute_reply": "2022-07-23T10:11:49.968608Z",
     "shell.execute_reply.started": "2022-07-23T10:11:49.965757Z"
    },
    "id": "8iM5ox-qMBUF",
    "tags": []
   },
   "outputs": [],
   "source": [
    "y=data['y'].to_numpy()"
   ]
  },
  {
   "cell_type": "markdown",
   "metadata": {
    "execution": {
     "iopub.execute_input": "2022-07-23T09:31:01.299869Z",
     "iopub.status.busy": "2022-07-23T09:31:01.299712Z",
     "iopub.status.idle": "2022-07-23T09:31:01.304324Z",
     "shell.execute_reply": "2022-07-23T09:31:01.303699Z",
     "shell.execute_reply.started": "2022-07-23T09:31:01.299850Z"
    },
    "id": "97sU4wH4Lb2T",
    "tags": []
   },
   "source": [
    "### Applying SGD with log loss with out standardization of data"
   ]
  },
  {
   "cell_type": "code",
   "execution_count": 10,
   "metadata": {
    "colab": {
     "base_uri": "https://localhost:8080/",
     "height": 377
    },
    "execution": {
     "iopub.execute_input": "2022-07-23T10:11:49.970441Z",
     "iopub.status.busy": "2022-07-23T10:11:49.970285Z",
     "iopub.status.idle": "2022-07-23T10:11:49.978020Z",
     "shell.execute_reply": "2022-07-23T10:11:49.976634Z",
     "shell.execute_reply.started": "2022-07-23T10:11:49.970422Z"
    },
    "executionInfo": {
     "elapsed": 1688,
     "status": "ok",
     "timestamp": 1639476491655,
     "user": {
      "displayName": "srikar kodakandla",
      "photoUrl": "https://lh3.googleusercontent.com/a-/AOh14GgQiUVrWQ2HwkHrrUHfH0fJQ3Kb3tyvoo0pw9ZvXw=s64",
      "userId": "15283157482374888355"
     },
     "user_tz": -330
    },
    "id": "QwxY2ziHaZL0",
    "outputId": "c23bdbe9-c5b6-4b39-f997-393987a3c008",
    "tags": []
   },
   "outputs": [
    {
     "data": {
      "text/plain": [
       "SGDClassifier(loss='log')"
      ]
     },
     "execution_count": 10,
     "metadata": {},
     "output_type": "execute_result"
    }
   ],
   "source": [
    "model=SGDClassifier(loss='log')\n",
    "model.fit((X),y)"
   ]
  },
  {
   "cell_type": "code",
   "execution_count": 11,
   "metadata": {
    "execution": {
     "iopub.execute_input": "2022-07-23T10:11:49.979028Z",
     "iopub.status.busy": "2022-07-23T10:11:49.978868Z",
     "iopub.status.idle": "2022-07-23T10:11:49.984294Z",
     "shell.execute_reply": "2022-07-23T10:11:49.983518Z",
     "shell.execute_reply.started": "2022-07-23T10:11:49.979008Z"
    },
    "tags": []
   },
   "outputs": [
    {
     "name": "stdout",
     "output_type": "stream",
     "text": [
      "Feature Importance : [[-2026.11468659  6709.78680389 10447.10285327]]\n",
      "accuracy : 0.475 \n"
     ]
    }
   ],
   "source": [
    "print(f\"Feature Importance : {model.coef_}\")\n",
    "print(\"accuracy : {} \".format(model.score(X,Y)))"
   ]
  },
  {
   "cell_type": "markdown",
   "metadata": {},
   "source": [
    "#### if the features are not standardized before giving them to this model , then model weights may be proportional to the varience of the respective features .so model won't perform well . so we should standardize the data before giving data to the model"
   ]
  },
  {
   "cell_type": "markdown",
   "metadata": {},
   "source": [
    "### Applying SGD with Hinge loss with out standardization of data"
   ]
  },
  {
   "cell_type": "code",
   "execution_count": 12,
   "metadata": {
    "colab": {
     "base_uri": "https://localhost:8080/",
     "height": 377
    },
    "execution": {
     "iopub.execute_input": "2022-07-23T10:11:49.985783Z",
     "iopub.status.busy": "2022-07-23T10:11:49.985244Z",
     "iopub.status.idle": "2022-07-23T10:11:49.992032Z",
     "shell.execute_reply": "2022-07-23T10:11:49.991345Z",
     "shell.execute_reply.started": "2022-07-23T10:11:49.985757Z"
    },
    "executionInfo": {
     "elapsed": 3693,
     "status": "ok",
     "timestamp": 1639476454859,
     "user": {
      "displayName": "srikar kodakandla",
      "photoUrl": "https://lh3.googleusercontent.com/a-/AOh14GgQiUVrWQ2HwkHrrUHfH0fJQ3Kb3tyvoo0pw9ZvXw=s64",
      "userId": "15283157482374888355"
     },
     "user_tz": -330
    },
    "id": "Kz2kLaVLUJor",
    "outputId": "86582cdd-6550-4708-ea2f-25d1131d145a",
    "tags": []
   },
   "outputs": [
    {
     "data": {
      "text/plain": [
       "SGDClassifier()"
      ]
     },
     "execution_count": 12,
     "metadata": {},
     "output_type": "execute_result"
    }
   ],
   "source": [
    "model=SGDClassifier(loss='hinge')\n",
    "model.fit((X),y)"
   ]
  },
  {
   "cell_type": "code",
   "execution_count": 13,
   "metadata": {
    "execution": {
     "iopub.execute_input": "2022-07-23T10:11:49.993164Z",
     "iopub.status.busy": "2022-07-23T10:11:49.992919Z",
     "iopub.status.idle": "2022-07-23T10:11:49.998512Z",
     "shell.execute_reply": "2022-07-23T10:11:49.997780Z",
     "shell.execute_reply.started": "2022-07-23T10:11:49.993142Z"
    },
    "tags": []
   },
   "outputs": [
    {
     "name": "stdout",
     "output_type": "stream",
     "text": [
      "Feature Importance : [[13260.46161196 20304.16541758  9398.73417681]]\n",
      "accuracy : 0.47 \n"
     ]
    }
   ],
   "source": [
    "print(f\"Feature Importance : {model.coef_}\")\n",
    "print(\"accuracy : {} \".format(model.score(X,Y)))"
   ]
  },
  {
   "cell_type": "markdown",
   "metadata": {},
   "source": [
    "#### if the features are not standardized before giving them to this model , then model weights may be proportional to the varience of the respective features .so model won't perform well . so we should standardize the data before giving data to the model"
   ]
  },
  {
   "cell_type": "code",
   "execution_count": 14,
   "metadata": {
    "execution": {
     "iopub.execute_input": "2022-07-23T10:11:49.999697Z",
     "iopub.status.busy": "2022-07-23T10:11:49.999294Z",
     "iopub.status.idle": "2022-07-23T10:11:50.005419Z",
     "shell.execute_reply": "2022-07-23T10:11:50.004687Z",
     "shell.execute_reply.started": "2022-07-23T10:11:49.999669Z"
    },
    "id": "DsRIsMIDPQLA",
    "tags": []
   },
   "outputs": [],
   "source": [
    "scale=StandardScaler()\n",
    "X=scale.fit_transform(X)"
   ]
  },
  {
   "cell_type": "markdown",
   "metadata": {
    "execution": {
     "iopub.execute_input": "2022-07-23T09:31:01.334692Z",
     "iopub.status.busy": "2022-07-23T09:31:01.334447Z",
     "iopub.status.idle": "2022-07-23T09:31:01.337673Z",
     "shell.execute_reply": "2022-07-23T09:31:01.336837Z",
     "shell.execute_reply.started": "2022-07-23T09:31:01.334671Z"
    },
    "id": "rSQE6b2wPQI6",
    "tags": []
   },
   "source": [
    "### Applying SGD with Hinge loss after standardization of data"
   ]
  },
  {
   "cell_type": "code",
   "execution_count": 15,
   "metadata": {
    "colab": {
     "base_uri": "https://localhost:8080/"
    },
    "execution": {
     "iopub.execute_input": "2022-07-23T10:11:50.006735Z",
     "iopub.status.busy": "2022-07-23T10:11:50.006344Z",
     "iopub.status.idle": "2022-07-23T10:11:50.012479Z",
     "shell.execute_reply": "2022-07-23T10:11:50.011830Z",
     "shell.execute_reply.started": "2022-07-23T10:11:50.006710Z"
    },
    "executionInfo": {
     "elapsed": 472,
     "status": "ok",
     "timestamp": 1639476166633,
     "user": {
      "displayName": "srikar kodakandla",
      "photoUrl": "https://lh3.googleusercontent.com/a-/AOh14GgQiUVrWQ2HwkHrrUHfH0fJQ3Kb3tyvoo0pw9ZvXw=s64",
      "userId": "15283157482374888355"
     },
     "user_tz": -330
    },
    "id": "WshNbHq3Qsd1",
    "outputId": "b4dcfbdd-b19d-4fec-8e32-f1360aabf2a0",
    "tags": []
   },
   "outputs": [
    {
     "data": {
      "text/plain": [
       "SGDClassifier()"
      ]
     },
     "execution_count": 15,
     "metadata": {},
     "output_type": "execute_result"
    }
   ],
   "source": [
    "model=SGDClassifier(loss='hinge')\n",
    "model.fit(scale.fit_transform(X),y)"
   ]
  },
  {
   "cell_type": "code",
   "execution_count": 16,
   "metadata": {
    "execution": {
     "iopub.execute_input": "2022-07-23T10:11:50.013419Z",
     "iopub.status.busy": "2022-07-23T10:11:50.013271Z",
     "iopub.status.idle": "2022-07-23T10:11:50.019002Z",
     "shell.execute_reply": "2022-07-23T10:11:50.018220Z",
     "shell.execute_reply.started": "2022-07-23T10:11:50.013400Z"
    },
    "tags": []
   },
   "outputs": [
    {
     "name": "stdout",
     "output_type": "stream",
     "text": [
      "Feature Importance : [[ 3.41022844  3.57949088 22.63321333]]\n",
      "accuracy : 0.905 \n"
     ]
    }
   ],
   "source": [
    "print(f\"Feature Importance : {model.coef_}\")\n",
    "print(\"accuracy : {} \".format(model.score(X,Y)))"
   ]
  },
  {
   "cell_type": "markdown",
   "metadata": {},
   "source": [
    "### because all features are at same scale, The model is able to train well and gave good results"
   ]
  },
  {
   "cell_type": "markdown",
   "metadata": {},
   "source": [
    "### Applying SGD with log loss after standardization of data"
   ]
  },
  {
   "cell_type": "code",
   "execution_count": 17,
   "metadata": {
    "colab": {
     "base_uri": "https://localhost:8080/",
     "height": 377
    },
    "execution": {
     "iopub.execute_input": "2022-07-23T10:11:50.020283Z",
     "iopub.status.busy": "2022-07-23T10:11:50.020119Z",
     "iopub.status.idle": "2022-07-23T10:11:50.026910Z",
     "shell.execute_reply": "2022-07-23T10:11:50.026154Z",
     "shell.execute_reply.started": "2022-07-23T10:11:50.020262Z"
    },
    "executionInfo": {
     "elapsed": 3443,
     "status": "ok",
     "timestamp": 1639476286397,
     "user": {
      "displayName": "srikar kodakandla",
      "photoUrl": "https://lh3.googleusercontent.com/a-/AOh14GgQiUVrWQ2HwkHrrUHfH0fJQ3Kb3tyvoo0pw9ZvXw=s64",
      "userId": "15283157482374888355"
     },
     "user_tz": -330
    },
    "id": "EDXL2Xb5ZqqT",
    "outputId": "e855684c-9002-47c5-ddc2-384375bff205",
    "tags": []
   },
   "outputs": [
    {
     "data": {
      "text/plain": [
       "SGDClassifier(loss='log')"
      ]
     },
     "execution_count": 17,
     "metadata": {},
     "output_type": "execute_result"
    }
   ],
   "source": [
    "model=SGDClassifier(loss='log')\n",
    "model.fit(scale.fit_transform(X),y)"
   ]
  },
  {
   "cell_type": "code",
   "execution_count": 18,
   "metadata": {
    "colab": {
     "base_uri": "https://localhost:8080/"
    },
    "execution": {
     "iopub.execute_input": "2022-07-23T10:11:50.028106Z",
     "iopub.status.busy": "2022-07-23T10:11:50.027818Z",
     "iopub.status.idle": "2022-07-23T10:11:50.034373Z",
     "shell.execute_reply": "2022-07-23T10:11:50.033479Z",
     "shell.execute_reply.started": "2022-07-23T10:11:50.028081Z"
    },
    "executionInfo": {
     "elapsed": 13,
     "status": "ok",
     "timestamp": 1639474103362,
     "user": {
      "displayName": "srikar kodakandla",
      "photoUrl": "https://lh3.googleusercontent.com/a-/AOh14GgQiUVrWQ2HwkHrrUHfH0fJQ3Kb3tyvoo0pw9ZvXw=s64",
      "userId": "15283157482374888355"
     },
     "user_tz": -330
    },
    "id": "HX0PqnuBPQNq",
    "outputId": "f6ed0ea4-fc75-4a1b-b13d-144c8c84d44d",
    "tags": []
   },
   "outputs": [
    {
     "name": "stdout",
     "output_type": "stream",
     "text": [
      "Feature Importance : [[-3.02752538 -0.89763367 11.77952057]]\n",
      "accuracy : 0.92 \n"
     ]
    }
   ],
   "source": [
    "print(f\"Feature Importance : {model.coef_}\")\n",
    "print(\"accuracy : {} \".format(model.score(X,Y)))"
   ]
  },
  {
   "cell_type": "markdown",
   "metadata": {},
   "source": [
    "### because all features are at same scale, The model is able to train well and gave good results"
   ]
  },
  {
   "cell_type": "code",
   "execution_count": null,
   "metadata": {},
   "outputs": [],
   "source": []
  }
 ],
 "metadata": {
  "colab": {
   "collapsed_sections": [],
   "name": "Copy of 8B_LR_SVM.ipynb",
   "provenance": [
    {
     "file_id": "1BUpnDVbidPKun9dzAAv14YowGCnu8puD",
     "timestamp": 1639466136130
    }
   ]
  },
  "kernelspec": {
   "display_name": "Python 3 (ipykernel)",
   "language": "python",
   "name": "python3"
  },
  "language_info": {
   "codemirror_mode": {
    "name": "ipython",
    "version": 3
   },
   "file_extension": ".py",
   "mimetype": "text/x-python",
   "name": "python",
   "nbconvert_exporter": "python",
   "pygments_lexer": "ipython3",
   "version": "3.10.4"
  }
 },
 "nbformat": 4,
 "nbformat_minor": 4
}

