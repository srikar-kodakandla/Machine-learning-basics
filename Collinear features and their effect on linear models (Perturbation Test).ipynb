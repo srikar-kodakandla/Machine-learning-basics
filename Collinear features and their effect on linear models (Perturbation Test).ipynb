{
 "cells": [
  {
   "cell_type": "markdown",
   "metadata": {
    "id": "86Tvnj5UblTy"
   },
   "source": [
    "## Collinear features and their effect on linear models"
   ]
  },
  {
   "cell_type": "code",
   "execution_count": 24,
   "metadata": {
    "execution": {
     "iopub.execute_input": "2022-07-23T08:34:40.319195Z",
     "iopub.status.busy": "2022-07-23T08:34:40.318470Z",
     "iopub.status.idle": "2022-07-23T08:34:40.325058Z",
     "shell.execute_reply": "2022-07-23T08:34:40.324312Z",
     "shell.execute_reply.started": "2022-07-23T08:34:40.319166Z"
    },
    "id": "qn_eOn2EblT3",
    "tags": []
   },
   "outputs": [],
   "source": [
    "%matplotlib inline\n",
    "import warnings\n",
    "warnings.filterwarnings(\"ignore\")\n",
    "import pandas as pd\n",
    "import numpy as np\n",
    "from sklearn.datasets import load_iris\n",
    "from sklearn.linear_model import SGDClassifier\n",
    "from sklearn.model_selection import GridSearchCV\n",
    "import seaborn as sns\n",
    "import matplotlib.pyplot as plt"
   ]
  },
  {
   "cell_type": "code",
   "execution_count": 25,
   "metadata": {
    "execution": {
     "iopub.execute_input": "2022-07-23T08:34:40.746813Z",
     "iopub.status.busy": "2022-07-23T08:34:40.746621Z",
     "iopub.status.idle": "2022-07-23T08:34:52.114123Z",
     "shell.execute_reply": "2022-07-23T08:34:52.113228Z",
     "shell.execute_reply.started": "2022-07-23T08:34:40.746792Z"
    },
    "id": "VMoYWIayblUB",
    "tags": []
   },
   "outputs": [],
   "source": [
    "data = pd.read_csv('/home/ubuntu/drive_kodakandlasrikar99/aaic/task_d.csv')"
   ]
  },
  {
   "cell_type": "code",
   "execution_count": 26,
   "metadata": {
    "colab": {
     "base_uri": "https://localhost:8080/",
     "height": 206
    },
    "execution": {
     "iopub.execute_input": "2022-07-23T08:34:52.148164Z",
     "iopub.status.busy": "2022-07-23T08:34:52.147810Z",
     "iopub.status.idle": "2022-07-23T08:34:52.158708Z",
     "shell.execute_reply": "2022-07-23T08:34:52.158059Z",
     "shell.execute_reply.started": "2022-07-23T08:34:52.148141Z"
    },
    "id": "RfStXG4tblUI",
    "outputId": "14f2c468-5e09-4544-e045-e75097200c65",
    "tags": []
   },
   "outputs": [
    {
     "data": {
      "text/html": [
       "<div>\n",
       "<style scoped>\n",
       "    .dataframe tbody tr th:only-of-type {\n",
       "        vertical-align: middle;\n",
       "    }\n",
       "\n",
       "    .dataframe tbody tr th {\n",
       "        vertical-align: top;\n",
       "    }\n",
       "\n",
       "    .dataframe thead th {\n",
       "        text-align: right;\n",
       "    }\n",
       "</style>\n",
       "<table border=\"1\" class=\"dataframe\">\n",
       "  <thead>\n",
       "    <tr style=\"text-align: right;\">\n",
       "      <th></th>\n",
       "      <th>x</th>\n",
       "      <th>y</th>\n",
       "      <th>z</th>\n",
       "      <th>x*x</th>\n",
       "      <th>2*y</th>\n",
       "      <th>2*z+3*x*x</th>\n",
       "      <th>w</th>\n",
       "      <th>target</th>\n",
       "    </tr>\n",
       "  </thead>\n",
       "  <tbody>\n",
       "    <tr>\n",
       "      <th>0</th>\n",
       "      <td>-0.581066</td>\n",
       "      <td>0.841837</td>\n",
       "      <td>-1.012978</td>\n",
       "      <td>-0.604025</td>\n",
       "      <td>0.841837</td>\n",
       "      <td>-0.665927</td>\n",
       "      <td>-0.536277</td>\n",
       "      <td>0</td>\n",
       "    </tr>\n",
       "    <tr>\n",
       "      <th>1</th>\n",
       "      <td>-0.894309</td>\n",
       "      <td>-0.207835</td>\n",
       "      <td>-1.012978</td>\n",
       "      <td>-0.883052</td>\n",
       "      <td>-0.207835</td>\n",
       "      <td>-0.917054</td>\n",
       "      <td>-0.522364</td>\n",
       "      <td>0</td>\n",
       "    </tr>\n",
       "    <tr>\n",
       "      <th>2</th>\n",
       "      <td>-1.207552</td>\n",
       "      <td>0.212034</td>\n",
       "      <td>-1.082312</td>\n",
       "      <td>-1.150918</td>\n",
       "      <td>0.212034</td>\n",
       "      <td>-1.166507</td>\n",
       "      <td>0.205738</td>\n",
       "      <td>0</td>\n",
       "    </tr>\n",
       "    <tr>\n",
       "      <th>3</th>\n",
       "      <td>-1.364174</td>\n",
       "      <td>0.002099</td>\n",
       "      <td>-0.943643</td>\n",
       "      <td>-1.280666</td>\n",
       "      <td>0.002099</td>\n",
       "      <td>-1.266540</td>\n",
       "      <td>-0.665720</td>\n",
       "      <td>0</td>\n",
       "    </tr>\n",
       "    <tr>\n",
       "      <th>4</th>\n",
       "      <td>-0.737687</td>\n",
       "      <td>1.051772</td>\n",
       "      <td>-1.012978</td>\n",
       "      <td>-0.744934</td>\n",
       "      <td>1.051772</td>\n",
       "      <td>-0.792746</td>\n",
       "      <td>-0.735054</td>\n",
       "      <td>0</td>\n",
       "    </tr>\n",
       "  </tbody>\n",
       "</table>\n",
       "</div>"
      ],
      "text/plain": [
       "          x         y         z       x*x       2*y  2*z+3*x*x         w  \\\n",
       "0 -0.581066  0.841837 -1.012978 -0.604025  0.841837  -0.665927 -0.536277   \n",
       "1 -0.894309 -0.207835 -1.012978 -0.883052 -0.207835  -0.917054 -0.522364   \n",
       "2 -1.207552  0.212034 -1.082312 -1.150918  0.212034  -1.166507  0.205738   \n",
       "3 -1.364174  0.002099 -0.943643 -1.280666  0.002099  -1.266540 -0.665720   \n",
       "4 -0.737687  1.051772 -1.012978 -0.744934  1.051772  -0.792746 -0.735054   \n",
       "\n",
       "   target  \n",
       "0       0  \n",
       "1       0  \n",
       "2       0  \n",
       "3       0  \n",
       "4       0  "
      ]
     },
     "execution_count": 26,
     "metadata": {},
     "output_type": "execute_result"
    }
   ],
   "source": [
    "data.head()"
   ]
  },
  {
   "cell_type": "code",
   "execution_count": 27,
   "metadata": {
    "execution": {
     "iopub.execute_input": "2022-07-23T08:34:52.161087Z",
     "iopub.status.busy": "2022-07-23T08:34:52.160695Z",
     "iopub.status.idle": "2022-07-23T08:34:52.164501Z",
     "shell.execute_reply": "2022-07-23T08:34:52.163567Z",
     "shell.execute_reply.started": "2022-07-23T08:34:52.161066Z"
    },
    "id": "hxzG24juXS33",
    "tags": []
   },
   "outputs": [],
   "source": [
    "features=list(data.columns)"
   ]
  },
  {
   "cell_type": "code",
   "execution_count": 28,
   "metadata": {
    "colab": {
     "base_uri": "https://localhost:8080/"
    },
    "execution": {
     "iopub.execute_input": "2022-07-23T08:34:52.166487Z",
     "iopub.status.busy": "2022-07-23T08:34:52.165966Z",
     "iopub.status.idle": "2022-07-23T08:34:52.170543Z",
     "shell.execute_reply": "2022-07-23T08:34:52.169886Z",
     "shell.execute_reply.started": "2022-07-23T08:34:52.166462Z"
    },
    "id": "gO4XQo-TXXxU",
    "outputId": "76936bdc-3b7b-4820-c88d-91306360d65e",
    "tags": []
   },
   "outputs": [
    {
     "data": {
      "text/plain": [
       "['x', 'y', 'z', 'x*x', '2*y', '2*z+3*x*x', 'w', 'target']"
      ]
     },
     "execution_count": 28,
     "metadata": {},
     "output_type": "execute_result"
    }
   ],
   "source": [
    "features"
   ]
  },
  {
   "cell_type": "code",
   "execution_count": 29,
   "metadata": {
    "execution": {
     "iopub.execute_input": "2022-07-23T08:34:52.172450Z",
     "iopub.status.busy": "2022-07-23T08:34:52.171942Z",
     "iopub.status.idle": "2022-07-23T08:34:52.177001Z",
     "shell.execute_reply": "2022-07-23T08:34:52.175869Z",
     "shell.execute_reply.started": "2022-07-23T08:34:52.172427Z"
    },
    "id": "JIIuomCkblUP",
    "tags": []
   },
   "outputs": [],
   "source": [
    "X = data.drop(['target'], axis=1).values\n",
    "Y = data['target'].values"
   ]
  },
  {
   "cell_type": "code",
   "execution_count": 30,
   "metadata": {
    "colab": {
     "base_uri": "https://localhost:8080/",
     "height": 625
    },
    "execution": {
     "iopub.execute_input": "2022-07-23T08:34:52.178858Z",
     "iopub.status.busy": "2022-07-23T08:34:52.178490Z",
     "iopub.status.idle": "2022-07-23T08:34:52.576718Z",
     "shell.execute_reply": "2022-07-23T08:34:52.576020Z",
     "shell.execute_reply.started": "2022-07-23T08:34:52.178834Z"
    },
    "id": "aQBOjsyOoknB",
    "outputId": "11f5bf0e-3eaf-4363-8750-a299907bb62c",
    "tags": []
   },
   "outputs": [
    {
     "data": {
      "text/plain": [
       "<AxesSubplot:title={'center':'data correlation '}>"
      ]
     },
     "execution_count": 30,
     "metadata": {},
     "output_type": "execute_result"
    },
    {
     "data": {
      "image/png": "[encoded data removed]",
      "text/plain": [
       "<Figure size 720x720 with 2 Axes>"
      ]
     },
     "metadata": {
      "needs_background": "light"
     },
     "output_type": "display_data"
    }
   ],
   "source": [
    "plt.figure(figsize=(10,10))\n",
    "plt.title('data correlation ')\n",
    "sns.heatmap(data.corr(),annot=True)"
   ]
  },
  {
   "cell_type": "markdown",
   "metadata": {},
   "source": [
    "### from above correlation matrix ,Clearly we have collinear features "
   ]
  },
  {
   "cell_type": "code",
   "execution_count": 31,
   "metadata": {
    "execution": {
     "iopub.execute_input": "2022-07-23T08:34:52.577746Z",
     "iopub.status.busy": "2022-07-23T08:34:52.577587Z",
     "iopub.status.idle": "2022-07-23T08:34:52.582018Z",
     "shell.execute_reply": "2022-07-23T08:34:52.580868Z",
     "shell.execute_reply.started": "2022-07-23T08:34:52.577726Z"
    },
    "id": "FfYJhVFKw0rF",
    "tags": []
   },
   "outputs": [],
   "source": [
    "from sklearn.metrics import accuracy_score\n",
    "from sklearn.model_selection import GridSearchCV\n",
    "from scipy.stats import uniform"
   ]
  },
  {
   "cell_type": "markdown",
   "metadata": {},
   "source": [
    "# Perturbation Test on Logistic Regression"
   ]
  },
  {
   "cell_type": "markdown",
   "metadata": {},
   "source": [
    "### Hyperparamater Tuning"
   ]
  },
  {
   "cell_type": "code",
   "execution_count": 32,
   "metadata": {
    "execution": {
     "iopub.execute_input": "2022-07-23T08:34:52.583841Z",
     "iopub.status.busy": "2022-07-23T08:34:52.583459Z",
     "iopub.status.idle": "2022-07-23T08:34:52.587686Z",
     "shell.execute_reply": "2022-07-23T08:34:52.586673Z",
     "shell.execute_reply.started": "2022-07-23T08:34:52.583812Z"
    },
    "id": "4aVsN4d_xzLb",
    "tags": []
   },
   "outputs": [],
   "source": [
    "distributions = dict(alpha=[1e-05, 0.001, 0.1, 1, 100, 1000],penalty=['l2', 'l1'],loss=['log'])"
   ]
  },
  {
   "cell_type": "code",
   "execution_count": 33,
   "metadata": {
    "execution": {
     "iopub.execute_input": "2022-07-23T08:34:52.589736Z",
     "iopub.status.busy": "2022-07-23T08:34:52.589156Z",
     "iopub.status.idle": "2022-07-23T08:34:52.593313Z",
     "shell.execute_reply": "2022-07-23T08:34:52.592290Z",
     "shell.execute_reply.started": "2022-07-23T08:34:52.589708Z"
    },
    "id": "36wJ3qGUokw9",
    "tags": []
   },
   "outputs": [],
   "source": [
    "classifier=SGDClassifier()"
   ]
  },
  {
   "cell_type": "code",
   "execution_count": 34,
   "metadata": {
    "execution": {
     "iopub.execute_input": "2022-07-23T08:34:52.595038Z",
     "iopub.status.busy": "2022-07-23T08:34:52.594870Z",
     "iopub.status.idle": "2022-07-23T08:34:52.598319Z",
     "shell.execute_reply": "2022-07-23T08:34:52.597736Z",
     "shell.execute_reply.started": "2022-07-23T08:34:52.595019Z"
    },
    "id": "HrpZyaHMyHlk",
    "tags": []
   },
   "outputs": [],
   "source": [
    "clf=GridSearchCV(classifier, distributions,n_jobs=-1)"
   ]
  },
  {
   "cell_type": "code",
   "execution_count": 35,
   "metadata": {
    "colab": {
     "base_uri": "https://localhost:8080/"
    },
    "execution": {
     "iopub.execute_input": "2022-07-23T08:34:52.599168Z",
     "iopub.status.busy": "2022-07-23T08:34:52.599027Z",
     "iopub.status.idle": "2022-07-23T08:34:55.026649Z",
     "shell.execute_reply": "2022-07-23T08:34:55.025869Z",
     "shell.execute_reply.started": "2022-07-23T08:34:52.599151Z"
    },
    "id": "b9BUcNu9yQES",
    "outputId": "7a7f0049-d9e2-43f1-e1f1-10c76d954c28",
    "tags": []
   },
   "outputs": [
    {
     "data": {
      "text/plain": [
       "{'alpha': 1e-05, 'loss': 'log', 'penalty': 'l1'}"
      ]
     },
     "execution_count": 35,
     "metadata": {},
     "output_type": "execute_result"
    }
   ],
   "source": [
    "search = clf.fit(X,Y)\n",
    "search.best_params_"
   ]
  },
  {
   "cell_type": "code",
   "execution_count": 36,
   "metadata": {
    "execution": {
     "iopub.execute_input": "2022-07-23T08:34:55.028251Z",
     "iopub.status.busy": "2022-07-23T08:34:55.028067Z",
     "iopub.status.idle": "2022-07-23T08:34:55.034830Z",
     "shell.execute_reply": "2022-07-23T08:34:55.033868Z",
     "shell.execute_reply.started": "2022-07-23T08:34:55.028227Z"
    },
    "id": "e62IwRaBzC9O",
    "tags": []
   },
   "outputs": [],
   "source": [
    "classifier=SGDClassifier(loss='log',alpha=1e-05,penalty='l2').fit(X,Y)"
   ]
  },
  {
   "cell_type": "code",
   "execution_count": 61,
   "metadata": {
    "colab": {
     "base_uri": "https://localhost:8080/"
    },
    "execution": {
     "iopub.execute_input": "2022-07-23T08:38:57.772995Z",
     "iopub.status.busy": "2022-07-23T08:38:57.772470Z",
     "iopub.status.idle": "2022-07-23T08:38:57.781332Z",
     "shell.execute_reply": "2022-07-23T08:38:57.780313Z",
     "shell.execute_reply.started": "2022-07-23T08:38:57.772966Z"
    },
    "id": "ND9AnTosj7yH",
    "outputId": "f2294782-5bcf-430b-b3a2-09cf140e6612",
    "tags": []
   },
   "outputs": [
    {
     "name": "stdout",
     "output_type": "stream",
     "text": [
      "best model accuracy  1.0\n"
     ]
    }
   ],
   "source": [
    "print('best model accuracy ',accuracy_score(Y,classifier.predict(X)))"
   ]
  },
  {
   "cell_type": "code",
   "execution_count": 62,
   "metadata": {
    "execution": {
     "iopub.execute_input": "2022-07-23T08:38:58.220490Z",
     "iopub.status.busy": "2022-07-23T08:38:58.219733Z",
     "iopub.status.idle": "2022-07-23T08:38:58.223861Z",
     "shell.execute_reply": "2022-07-23T08:38:58.223247Z",
     "shell.execute_reply.started": "2022-07-23T08:38:58.220464Z"
    },
    "id": "nix61sQdj7yI",
    "tags": []
   },
   "outputs": [],
   "source": [
    "weights1=classifier.coef_"
   ]
  },
  {
   "cell_type": "markdown",
   "metadata": {},
   "source": [
    "### Weights that i got after training logistic regression "
   ]
  },
  {
   "cell_type": "code",
   "execution_count": 63,
   "metadata": {
    "colab": {
     "base_uri": "https://localhost:8080/"
    },
    "execution": {
     "iopub.execute_input": "2022-07-23T08:38:59.044962Z",
     "iopub.status.busy": "2022-07-23T08:38:59.044314Z",
     "iopub.status.idle": "2022-07-23T08:38:59.049211Z",
     "shell.execute_reply": "2022-07-23T08:38:59.048609Z",
     "shell.execute_reply.started": "2022-07-23T08:38:59.044934Z"
    },
    "id": "SIU-CtMJj7yI",
    "outputId": "5c0acab3-bddd-493e-b1fc-5bdad54c3443",
    "tags": []
   },
   "outputs": [
    {
     "data": {
      "text/plain": [
       "array([[ 15.01197032, -30.0910642 ,  51.18027933,  11.94656492,\n",
       "        -30.0910642 ,  16.93112518,   2.34211046]])"
      ]
     },
     "execution_count": 63,
     "metadata": {},
     "output_type": "execute_result"
    }
   ],
   "source": [
    "weights1"
   ]
  },
  {
   "cell_type": "markdown",
   "metadata": {},
   "source": [
    "### Adding noise to the data "
   ]
  },
  {
   "cell_type": "code",
   "execution_count": 64,
   "metadata": {
    "execution": {
     "iopub.execute_input": "2022-07-23T08:38:59.546136Z",
     "iopub.status.busy": "2022-07-23T08:38:59.545507Z",
     "iopub.status.idle": "2022-07-23T08:38:59.549566Z",
     "shell.execute_reply": "2022-07-23T08:38:59.548907Z",
     "shell.execute_reply.started": "2022-07-23T08:38:59.546110Z"
    },
    "id": "LvPTAacUj7yI",
    "tags": []
   },
   "outputs": [],
   "source": [
    "X_noise=X.copy()"
   ]
  },
  {
   "cell_type": "code",
   "execution_count": 65,
   "metadata": {
    "execution": {
     "iopub.execute_input": "2022-07-23T08:39:04.059471Z",
     "iopub.status.busy": "2022-07-23T08:39:04.058976Z",
     "iopub.status.idle": "2022-07-23T08:39:04.062594Z",
     "shell.execute_reply": "2022-07-23T08:39:04.061891Z",
     "shell.execute_reply.started": "2022-07-23T08:39:04.059444Z"
    },
    "id": "WX2-Bnotj7yI",
    "tags": []
   },
   "outputs": [],
   "source": [
    "X_noise=X_noise+10**-2"
   ]
  },
  {
   "cell_type": "code",
   "execution_count": 66,
   "metadata": {
    "execution": {
     "iopub.execute_input": "2022-07-23T08:39:05.013396Z",
     "iopub.status.busy": "2022-07-23T08:39:05.012571Z",
     "iopub.status.idle": "2022-07-23T08:39:05.018341Z",
     "shell.execute_reply": "2022-07-23T08:39:05.017325Z",
     "shell.execute_reply.started": "2022-07-23T08:39:05.013366Z"
    },
    "id": "aNnh6SBZj7yJ",
    "tags": []
   },
   "outputs": [],
   "source": [
    "classifier=SGDClassifier(loss='log',alpha=1e-05,penalty='l2').fit(X_noise,Y)"
   ]
  },
  {
   "cell_type": "code",
   "execution_count": 67,
   "metadata": {
    "execution": {
     "iopub.execute_input": "2022-07-23T08:39:15.119864Z",
     "iopub.status.busy": "2022-07-23T08:39:15.119249Z",
     "iopub.status.idle": "2022-07-23T08:39:15.123052Z",
     "shell.execute_reply": "2022-07-23T08:39:15.122407Z",
     "shell.execute_reply.started": "2022-07-23T08:39:15.119837Z"
    },
    "id": "wCBFJfR0j7yJ",
    "tags": []
   },
   "outputs": [],
   "source": [
    "weights2=classifier.coef_"
   ]
  },
  {
   "cell_type": "markdown",
   "metadata": {},
   "source": [
    "### Weights that i got after training Logistic regression on data+noise dataset"
   ]
  },
  {
   "cell_type": "code",
   "execution_count": 68,
   "metadata": {
    "colab": {
     "base_uri": "https://localhost:8080/"
    },
    "execution": {
     "iopub.execute_input": "2022-07-23T08:39:15.196762Z",
     "iopub.status.busy": "2022-07-23T08:39:15.196221Z",
     "iopub.status.idle": "2022-07-23T08:39:15.203994Z",
     "shell.execute_reply": "2022-07-23T08:39:15.203187Z",
     "shell.execute_reply.started": "2022-07-23T08:39:15.196738Z"
    },
    "id": "tUWrcbnxj7yJ",
    "outputId": "fe18ada5-c8bc-4de9-c6a9-525f269b1c30",
    "tags": []
   },
   "outputs": [
    {
     "data": {
      "text/plain": [
       "array([[ 34.3403421 , -27.01104891,  71.1804098 ,  29.63471763,\n",
       "        -27.01104891,  35.25971146,  25.03145155]])"
      ]
     },
     "execution_count": 68,
     "metadata": {},
     "output_type": "execute_result"
    }
   ],
   "source": [
    "weights2"
   ]
  },
  {
   "cell_type": "code",
   "execution_count": 69,
   "metadata": {
    "execution": {
     "iopub.execute_input": "2022-07-23T08:39:15.206087Z",
     "iopub.status.busy": "2022-07-23T08:39:15.205699Z",
     "iopub.status.idle": "2022-07-23T08:39:15.209493Z",
     "shell.execute_reply": "2022-07-23T08:39:15.208542Z",
     "shell.execute_reply.started": "2022-07-23T08:39:15.206067Z"
    },
    "id": "s8skpzubj7yJ",
    "tags": []
   },
   "outputs": [],
   "source": [
    "diff_weights=abs(weights1-weights2)"
   ]
  },
  {
   "cell_type": "code",
   "execution_count": 72,
   "metadata": {
    "execution": {
     "iopub.execute_input": "2022-07-23T08:39:19.676379Z",
     "iopub.status.busy": "2022-07-23T08:39:19.675755Z",
     "iopub.status.idle": "2022-07-23T08:39:19.679745Z",
     "shell.execute_reply": "2022-07-23T08:39:19.679147Z",
     "shell.execute_reply.started": "2022-07-23T08:39:19.676351Z"
    },
    "id": "0_7idiu_j7yJ",
    "tags": []
   },
   "outputs": [],
   "source": [
    "p_diff_weights=abs((weights1-weights2)/weights1)*100"
   ]
  },
  {
   "cell_type": "markdown",
   "metadata": {},
   "source": [
    "### Absolute percentage deviation of weights "
   ]
  },
  {
   "cell_type": "code",
   "execution_count": 73,
   "metadata": {
    "colab": {
     "base_uri": "https://localhost:8080/"
    },
    "execution": {
     "iopub.execute_input": "2022-07-23T08:39:19.866279Z",
     "iopub.status.busy": "2022-07-23T08:39:19.866066Z",
     "iopub.status.idle": "2022-07-23T08:39:19.871843Z",
     "shell.execute_reply": "2022-07-23T08:39:19.870679Z",
     "shell.execute_reply.started": "2022-07-23T08:39:19.866256Z"
    },
    "id": "8vRRTcFaMlzB",
    "outputId": "3d9d92ee-e8ec-42e7-84a2-9ceefe7e404a",
    "tags": []
   },
   "outputs": [
    {
     "data": {
      "text/plain": [
       "array([[128.75306425,  10.23564762,  39.07780641, 148.06057499,\n",
       "         10.23564762, 108.2537993 , 968.75623563]])"
      ]
     },
     "execution_count": 73,
     "metadata": {},
     "output_type": "execute_result"
    }
   ],
   "source": [
    "p_diff_weights"
   ]
  },
  {
   "cell_type": "code",
   "execution_count": 74,
   "metadata": {
    "colab": {
     "base_uri": "https://localhost:8080/"
    },
    "execution": {
     "iopub.execute_input": "2022-07-23T08:39:20.242297Z",
     "iopub.status.busy": "2022-07-23T08:39:20.241840Z",
     "iopub.status.idle": "2022-07-23T08:39:20.248140Z",
     "shell.execute_reply": "2022-07-23T08:39:20.246976Z",
     "shell.execute_reply.started": "2022-07-23T08:39:20.242269Z"
    },
    "id": "WKhoH5pKj7yJ",
    "outputId": "021d2992-e3a1-46f9-e900-a29ad590bd4c",
    "tags": []
   },
   "outputs": [
    {
     "name": "stdout",
     "output_type": "stream",
     "text": [
      "Top features :\n",
      "w\n",
      "x*x\n",
      "x\n",
      "2*z+3*x*x\n",
      "z\n",
      "2*y\n",
      "y\n"
     ]
    }
   ],
   "source": [
    "print('Top features :')\n",
    "for i in np.argsort(p_diff_weights[0])[::-1]:\n",
    "  print(features[i])"
   ]
  },
  {
   "cell_type": "markdown",
   "metadata": {},
   "source": [
    "#### Now model told the above features as colinear features, if we rerun the cell again it may say other features because , z and 2*z , 3*x and x are collinear with each other , and 2*z+3*x*x is colinear with z and x"
   ]
  },
  {
   "cell_type": "markdown",
   "metadata": {
    "id": "SR8OWAv6iZEQ"
   },
   "source": [
    "# Observation\n",
    "\n",
    "### As the difference of their weights are high after and before pertubation test , we can say that we have colinear features in the dataset"
   ]
  },
  {
   "cell_type": "markdown",
   "metadata": {
    "id": "Lai8wXU1pmSb"
   },
   "source": [
    "# Perturbation Test on SVM"
   ]
  },
  {
   "cell_type": "code",
   "execution_count": 75,
   "metadata": {
    "execution": {
     "iopub.execute_input": "2022-07-23T08:44:38.797279Z",
     "iopub.status.busy": "2022-07-23T08:44:38.796844Z",
     "iopub.status.idle": "2022-07-23T08:44:47.259521Z",
     "shell.execute_reply": "2022-07-23T08:44:47.258748Z",
     "shell.execute_reply.started": "2022-07-23T08:44:38.797253Z"
    },
    "id": "Rs9hHvNgjYPi",
    "tags": []
   },
   "outputs": [],
   "source": [
    "data = pd.read_csv('/home/ubuntu/drive_kodakandlasrikar99/aaic/task_d.csv')"
   ]
  },
  {
   "cell_type": "code",
   "execution_count": 76,
   "metadata": {
    "colab": {
     "base_uri": "https://localhost:8080/",
     "height": 206
    },
    "execution": {
     "iopub.execute_input": "2022-07-23T08:44:47.261090Z",
     "iopub.status.busy": "2022-07-23T08:44:47.260780Z",
     "iopub.status.idle": "2022-07-23T08:44:47.271502Z",
     "shell.execute_reply": "2022-07-23T08:44:47.270892Z",
     "shell.execute_reply.started": "2022-07-23T08:44:47.261067Z"
    },
    "id": "bw8Dg-cCjYPk",
    "outputId": "7b6109d8-e9da-4f2e-dfc4-d8d2a1814e28",
    "tags": []
   },
   "outputs": [
    {
     "data": {
      "text/html": [
       "<div>\n",
       "<style scoped>\n",
       "    .dataframe tbody tr th:only-of-type {\n",
       "        vertical-align: middle;\n",
       "    }\n",
       "\n",
       "    .dataframe tbody tr th {\n",
       "        vertical-align: top;\n",
       "    }\n",
       "\n",
       "    .dataframe thead th {\n",
       "        text-align: right;\n",
       "    }\n",
       "</style>\n",
       "<table border=\"1\" class=\"dataframe\">\n",
       "  <thead>\n",
       "    <tr style=\"text-align: right;\">\n",
       "      <th></th>\n",
       "      <th>x</th>\n",
       "      <th>y</th>\n",
       "      <th>z</th>\n",
       "      <th>x*x</th>\n",
       "      <th>2*y</th>\n",
       "      <th>2*z+3*x*x</th>\n",
       "      <th>w</th>\n",
       "      <th>target</th>\n",
       "    </tr>\n",
       "  </thead>\n",
       "  <tbody>\n",
       "    <tr>\n",
       "      <th>0</th>\n",
       "      <td>-0.581066</td>\n",
       "      <td>0.841837</td>\n",
       "      <td>-1.012978</td>\n",
       "      <td>-0.604025</td>\n",
       "      <td>0.841837</td>\n",
       "      <td>-0.665927</td>\n",
       "      <td>-0.536277</td>\n",
       "      <td>0</td>\n",
       "    </tr>\n",
       "    <tr>\n",
       "      <th>1</th>\n",
       "      <td>-0.894309</td>\n",
       "      <td>-0.207835</td>\n",
       "      <td>-1.012978</td>\n",
       "      <td>-0.883052</td>\n",
       "      <td>-0.207835</td>\n",
       "      <td>-0.917054</td>\n",
       "      <td>-0.522364</td>\n",
       "      <td>0</td>\n",
       "    </tr>\n",
       "    <tr>\n",
       "      <th>2</th>\n",
       "      <td>-1.207552</td>\n",
       "      <td>0.212034</td>\n",
       "      <td>-1.082312</td>\n",
       "      <td>-1.150918</td>\n",
       "      <td>0.212034</td>\n",
       "      <td>-1.166507</td>\n",
       "      <td>0.205738</td>\n",
       "      <td>0</td>\n",
       "    </tr>\n",
       "    <tr>\n",
       "      <th>3</th>\n",
       "      <td>-1.364174</td>\n",
       "      <td>0.002099</td>\n",
       "      <td>-0.943643</td>\n",
       "      <td>-1.280666</td>\n",
       "      <td>0.002099</td>\n",
       "      <td>-1.266540</td>\n",
       "      <td>-0.665720</td>\n",
       "      <td>0</td>\n",
       "    </tr>\n",
       "    <tr>\n",
       "      <th>4</th>\n",
       "      <td>-0.737687</td>\n",
       "      <td>1.051772</td>\n",
       "      <td>-1.012978</td>\n",
       "      <td>-0.744934</td>\n",
       "      <td>1.051772</td>\n",
       "      <td>-0.792746</td>\n",
       "      <td>-0.735054</td>\n",
       "      <td>0</td>\n",
       "    </tr>\n",
       "  </tbody>\n",
       "</table>\n",
       "</div>"
      ],
      "text/plain": [
       "          x         y         z       x*x       2*y  2*z+3*x*x         w  \\\n",
       "0 -0.581066  0.841837 -1.012978 -0.604025  0.841837  -0.665927 -0.536277   \n",
       "1 -0.894309 -0.207835 -1.012978 -0.883052 -0.207835  -0.917054 -0.522364   \n",
       "2 -1.207552  0.212034 -1.082312 -1.150918  0.212034  -1.166507  0.205738   \n",
       "3 -1.364174  0.002099 -0.943643 -1.280666  0.002099  -1.266540 -0.665720   \n",
       "4 -0.737687  1.051772 -1.012978 -0.744934  1.051772  -0.792746 -0.735054   \n",
       "\n",
       "   target  \n",
       "0       0  \n",
       "1       0  \n",
       "2       0  \n",
       "3       0  \n",
       "4       0  "
      ]
     },
     "execution_count": 76,
     "metadata": {},
     "output_type": "execute_result"
    }
   ],
   "source": [
    "data.head()"
   ]
  },
  {
   "cell_type": "code",
   "execution_count": 77,
   "metadata": {
    "execution": {
     "iopub.execute_input": "2022-07-23T08:44:47.272455Z",
     "iopub.status.busy": "2022-07-23T08:44:47.272295Z",
     "iopub.status.idle": "2022-07-23T08:44:47.275951Z",
     "shell.execute_reply": "2022-07-23T08:44:47.275290Z",
     "shell.execute_reply.started": "2022-07-23T08:44:47.272435Z"
    },
    "id": "KMbgfuzEjYPl",
    "tags": []
   },
   "outputs": [],
   "source": [
    "from sklearn.metrics import accuracy_score\n",
    "from sklearn.model_selection import GridSearchCV\n",
    "from scipy.stats import uniform"
   ]
  },
  {
   "cell_type": "markdown",
   "metadata": {},
   "source": [
    "### Hyperparamater Tuning"
   ]
  },
  {
   "cell_type": "code",
   "execution_count": 78,
   "metadata": {
    "execution": {
     "iopub.execute_input": "2022-07-23T08:44:47.277588Z",
     "iopub.status.busy": "2022-07-23T08:44:47.277409Z",
     "iopub.status.idle": "2022-07-23T08:44:47.281101Z",
     "shell.execute_reply": "2022-07-23T08:44:47.280496Z",
     "shell.execute_reply.started": "2022-07-23T08:44:47.277569Z"
    },
    "id": "2mvYohMUjYPl",
    "tags": []
   },
   "outputs": [],
   "source": [
    "distributions = dict(alpha=[1e-05, 0.001, 0.1, 1, 100, 1000],penalty=['l2', 'l1'],loss=['hinge'])"
   ]
  },
  {
   "cell_type": "code",
   "execution_count": 79,
   "metadata": {
    "execution": {
     "iopub.execute_input": "2022-07-23T08:44:47.282142Z",
     "iopub.status.busy": "2022-07-23T08:44:47.281863Z",
     "iopub.status.idle": "2022-07-23T08:44:47.286227Z",
     "shell.execute_reply": "2022-07-23T08:44:47.285658Z",
     "shell.execute_reply.started": "2022-07-23T08:44:47.282120Z"
    },
    "id": "mSIky2nfjYPm",
    "tags": []
   },
   "outputs": [],
   "source": [
    "classifier=SGDClassifier()"
   ]
  },
  {
   "cell_type": "code",
   "execution_count": 80,
   "metadata": {
    "execution": {
     "iopub.execute_input": "2022-07-23T08:44:47.287317Z",
     "iopub.status.busy": "2022-07-23T08:44:47.286983Z",
     "iopub.status.idle": "2022-07-23T08:44:47.290759Z",
     "shell.execute_reply": "2022-07-23T08:44:47.290261Z",
     "shell.execute_reply.started": "2022-07-23T08:44:47.287292Z"
    },
    "id": "ZuLrahEgjYPn",
    "tags": []
   },
   "outputs": [],
   "source": [
    "clf=GridSearchCV(classifier, distributions,n_jobs=-1)"
   ]
  },
  {
   "cell_type": "code",
   "execution_count": 81,
   "metadata": {
    "colab": {
     "base_uri": "https://localhost:8080/"
    },
    "execution": {
     "iopub.execute_input": "2022-07-23T08:44:47.292359Z",
     "iopub.status.busy": "2022-07-23T08:44:47.291986Z",
     "iopub.status.idle": "2022-07-23T08:44:49.606455Z",
     "shell.execute_reply": "2022-07-23T08:44:49.605444Z",
     "shell.execute_reply.started": "2022-07-23T08:44:47.292332Z"
    },
    "id": "GWp2gA9AjYPn",
    "outputId": "52daa05d-04f3-4e39-f39a-e5a52f3ddb67",
    "tags": []
   },
   "outputs": [
    {
     "data": {
      "text/plain": [
       "{'alpha': 1e-05, 'loss': 'hinge', 'penalty': 'l2'}"
      ]
     },
     "execution_count": 81,
     "metadata": {},
     "output_type": "execute_result"
    }
   ],
   "source": [
    "search = clf.fit(X,Y)\n",
    "search.best_params_"
   ]
  },
  {
   "cell_type": "code",
   "execution_count": 82,
   "metadata": {
    "execution": {
     "iopub.execute_input": "2022-07-23T08:44:49.607965Z",
     "iopub.status.busy": "2022-07-23T08:44:49.607772Z",
     "iopub.status.idle": "2022-07-23T08:44:49.613009Z",
     "shell.execute_reply": "2022-07-23T08:44:49.612332Z",
     "shell.execute_reply.started": "2022-07-23T08:44:49.607941Z"
    },
    "id": "NCSL0IuejYPo",
    "tags": []
   },
   "outputs": [],
   "source": [
    "classifier=SGDClassifier(loss='hinge',alpha=1e-05,penalty='l2').fit(X,Y)"
   ]
  },
  {
   "cell_type": "code",
   "execution_count": 83,
   "metadata": {
    "colab": {
     "base_uri": "https://localhost:8080/"
    },
    "execution": {
     "iopub.execute_input": "2022-07-23T08:44:49.614053Z",
     "iopub.status.busy": "2022-07-23T08:44:49.613880Z",
     "iopub.status.idle": "2022-07-23T08:44:49.619989Z",
     "shell.execute_reply": "2022-07-23T08:44:49.618689Z",
     "shell.execute_reply.started": "2022-07-23T08:44:49.614034Z"
    },
    "id": "cOTCHHLejYPp",
    "outputId": "8bb6d159-c677-4f1f-8ee6-1f2e8fe43b9e",
    "tags": []
   },
   "outputs": [
    {
     "name": "stdout",
     "output_type": "stream",
     "text": [
      "best model accuracy  1.0\n"
     ]
    }
   ],
   "source": [
    "print('best model accuracy ',accuracy_score(Y,classifier.predict(X)))"
   ]
  },
  {
   "cell_type": "code",
   "execution_count": 84,
   "metadata": {
    "execution": {
     "iopub.execute_input": "2022-07-23T08:44:49.623047Z",
     "iopub.status.busy": "2022-07-23T08:44:49.622827Z",
     "iopub.status.idle": "2022-07-23T08:44:49.626630Z",
     "shell.execute_reply": "2022-07-23T08:44:49.625619Z",
     "shell.execute_reply.started": "2022-07-23T08:44:49.623027Z"
    },
    "id": "nEQJC4p_jYPq",
    "tags": []
   },
   "outputs": [],
   "source": [
    "weights1=classifier.coef_"
   ]
  },
  {
   "cell_type": "markdown",
   "metadata": {},
   "source": [
    "### Weights that i got after training SVM"
   ]
  },
  {
   "cell_type": "code",
   "execution_count": 85,
   "metadata": {
    "colab": {
     "base_uri": "https://localhost:8080/"
    },
    "execution": {
     "iopub.execute_input": "2022-07-23T08:44:49.627669Z",
     "iopub.status.busy": "2022-07-23T08:44:49.627517Z",
     "iopub.status.idle": "2022-07-23T08:44:49.632487Z",
     "shell.execute_reply": "2022-07-23T08:44:49.631918Z",
     "shell.execute_reply.started": "2022-07-23T08:44:49.627650Z"
    },
    "id": "XXjm7RDpjYPq",
    "outputId": "97d0ac9e-f91c-4997-98ce-bbb5cf9a6f6e",
    "tags": []
   },
   "outputs": [
    {
     "data": {
      "text/plain": [
       "array([[ 27.24967259, -29.88431733,  53.73569211,  23.45672205,\n",
       "        -29.88431733,  27.59889366,  28.15885083]])"
      ]
     },
     "execution_count": 85,
     "metadata": {},
     "output_type": "execute_result"
    }
   ],
   "source": [
    "weights1"
   ]
  },
  {
   "cell_type": "markdown",
   "metadata": {},
   "source": [
    "### Adding noise to the data "
   ]
  },
  {
   "cell_type": "code",
   "execution_count": 86,
   "metadata": {
    "execution": {
     "iopub.execute_input": "2022-07-23T08:44:49.633411Z",
     "iopub.status.busy": "2022-07-23T08:44:49.633254Z",
     "iopub.status.idle": "2022-07-23T08:44:49.636330Z",
     "shell.execute_reply": "2022-07-23T08:44:49.635761Z",
     "shell.execute_reply.started": "2022-07-23T08:44:49.633392Z"
    },
    "id": "1hDBbKyVjYPr",
    "tags": []
   },
   "outputs": [],
   "source": [
    "X_noise=X.copy()"
   ]
  },
  {
   "cell_type": "code",
   "execution_count": 88,
   "metadata": {
    "execution": {
     "iopub.execute_input": "2022-07-23T08:44:49.803791Z",
     "iopub.status.busy": "2022-07-23T08:44:49.803500Z",
     "iopub.status.idle": "2022-07-23T08:44:49.806490Z",
     "shell.execute_reply": "2022-07-23T08:44:49.805909Z",
     "shell.execute_reply.started": "2022-07-23T08:44:49.803771Z"
    },
    "id": "FFF0NxCbjYPs",
    "tags": []
   },
   "outputs": [],
   "source": [
    "X_noise=X_noise+10**-2"
   ]
  },
  {
   "cell_type": "code",
   "execution_count": 89,
   "metadata": {
    "execution": {
     "iopub.execute_input": "2022-07-23T08:44:49.807367Z",
     "iopub.status.busy": "2022-07-23T08:44:49.807216Z",
     "iopub.status.idle": "2022-07-23T08:44:49.812052Z",
     "shell.execute_reply": "2022-07-23T08:44:49.811427Z",
     "shell.execute_reply.started": "2022-07-23T08:44:49.807349Z"
    },
    "id": "HtfD52y3jYPt",
    "tags": []
   },
   "outputs": [],
   "source": [
    "classifier=SGDClassifier(loss='hinge',alpha=1e-05,penalty='l2').fit(X_noise,Y)"
   ]
  },
  {
   "cell_type": "code",
   "execution_count": 90,
   "metadata": {
    "execution": {
     "iopub.execute_input": "2022-07-23T08:45:27.655458Z",
     "iopub.status.busy": "2022-07-23T08:45:27.654941Z",
     "iopub.status.idle": "2022-07-23T08:45:27.658827Z",
     "shell.execute_reply": "2022-07-23T08:45:27.657991Z",
     "shell.execute_reply.started": "2022-07-23T08:45:27.655431Z"
    },
    "id": "64vjjk12jYPu",
    "tags": []
   },
   "outputs": [],
   "source": [
    "weights2=classifier.coef_"
   ]
  },
  {
   "cell_type": "markdown",
   "metadata": {},
   "source": [
    "### Weights that i got after training SVM on data+noise dataset"
   ]
  },
  {
   "cell_type": "code",
   "execution_count": 91,
   "metadata": {
    "colab": {
     "base_uri": "https://localhost:8080/"
    },
    "execution": {
     "iopub.execute_input": "2022-07-23T08:45:28.573836Z",
     "iopub.status.busy": "2022-07-23T08:45:28.573313Z",
     "iopub.status.idle": "2022-07-23T08:45:28.581079Z",
     "shell.execute_reply": "2022-07-23T08:45:28.579678Z",
     "shell.execute_reply.started": "2022-07-23T08:45:28.573808Z"
    },
    "id": "NJM7nyvejYPu",
    "outputId": "131b34e0-9110-4dad-f062-23fa2e840e16",
    "tags": []
   },
   "outputs": [
    {
     "data": {
      "text/plain": [
       "array([[ 20.05994552, -32.00111772,  83.48343588,  17.11657262,\n",
       "        -32.00111772,  25.48103013,  30.04310468]])"
      ]
     },
     "execution_count": 91,
     "metadata": {},
     "output_type": "execute_result"
    }
   ],
   "source": [
    "weights2"
   ]
  },
  {
   "cell_type": "code",
   "execution_count": 92,
   "metadata": {
    "execution": {
     "iopub.execute_input": "2022-07-23T08:45:30.311421Z",
     "iopub.status.busy": "2022-07-23T08:45:30.310810Z",
     "iopub.status.idle": "2022-07-23T08:45:30.314512Z",
     "shell.execute_reply": "2022-07-23T08:45:30.313711Z",
     "shell.execute_reply.started": "2022-07-23T08:45:30.311395Z"
    },
    "id": "YGu77IMYjYPv",
    "tags": []
   },
   "outputs": [],
   "source": [
    "diff_weights=abs(weights1-weights2)"
   ]
  },
  {
   "cell_type": "code",
   "execution_count": 93,
   "metadata": {
    "execution": {
     "iopub.execute_input": "2022-07-23T08:45:30.638435Z",
     "iopub.status.busy": "2022-07-23T08:45:30.637899Z",
     "iopub.status.idle": "2022-07-23T08:45:30.641980Z",
     "shell.execute_reply": "2022-07-23T08:45:30.640709Z",
     "shell.execute_reply.started": "2022-07-23T08:45:30.638410Z"
    },
    "id": "cGkuof4nkur2",
    "tags": []
   },
   "outputs": [],
   "source": [
    "p_diff_weights=abs((weights1-weights2)/weights1)"
   ]
  },
  {
   "cell_type": "markdown",
   "metadata": {},
   "source": [
    "### Absolute percentage deviation of weights "
   ]
  },
  {
   "cell_type": "code",
   "execution_count": 94,
   "metadata": {
    "colab": {
     "base_uri": "https://localhost:8080/"
    },
    "execution": {
     "iopub.execute_input": "2022-07-23T08:45:31.633975Z",
     "iopub.status.busy": "2022-07-23T08:45:31.633327Z",
     "iopub.status.idle": "2022-07-23T08:45:31.641479Z",
     "shell.execute_reply": "2022-07-23T08:45:31.640330Z",
     "shell.execute_reply.started": "2022-07-23T08:45:31.633946Z"
    },
    "id": "CwsdrKmXlDzc",
    "outputId": "646393ff-0e6e-43e6-a2f6-86174065f2df",
    "tags": []
   },
   "outputs": [
    {
     "data": {
      "text/plain": [
       "array([[0.26384637, 0.07083315, 0.55359376, 0.27029137, 0.07083315,\n",
       "        0.07673726, 0.06691515]])"
      ]
     },
     "execution_count": 94,
     "metadata": {},
     "output_type": "execute_result"
    }
   ],
   "source": [
    "p_diff_weights"
   ]
  },
  {
   "cell_type": "code",
   "execution_count": 95,
   "metadata": {
    "colab": {
     "base_uri": "https://localhost:8080/"
    },
    "execution": {
     "iopub.execute_input": "2022-07-23T08:45:32.874936Z",
     "iopub.status.busy": "2022-07-23T08:45:32.874348Z",
     "iopub.status.idle": "2022-07-23T08:45:32.880136Z",
     "shell.execute_reply": "2022-07-23T08:45:32.879201Z",
     "shell.execute_reply.started": "2022-07-23T08:45:32.874906Z"
    },
    "id": "dRzAvGf_lHGk",
    "outputId": "a4286c06-7de5-42b3-f18d-c0f9e5686e72",
    "tags": []
   },
   "outputs": [
    {
     "name": "stdout",
     "output_type": "stream",
     "text": [
      "Top colinear features\n",
      "z\n",
      "x*x\n",
      "x\n",
      "2*z+3*x*x\n",
      "2*y\n",
      "y\n",
      "w\n"
     ]
    }
   ],
   "source": [
    "print('Top colinear features')\n",
    "for i in np.argsort(p_diff_weights[0])[::-1]:\n",
    "  print(features[i])"
   ]
  },
  {
   "cell_type": "markdown",
   "metadata": {},
   "source": [
    "### Now model told the above features as colinear features, if we rerun the cell again it may say other features because , z and 2*z , 3*x and x are collinear with each other , and 2*z+3*x*x is colinear with z and x "
   ]
  },
  {
   "cell_type": "markdown",
   "metadata": {
    "id": "cQD0zrBu6BXa"
   },
   "source": [
    "# Observation\n",
    "\n",
    "### As the absolute percentage difference of their weights are high after and before pertubation test , we can say that we have colinear features in the dataset"
   ]
  },
  {
   "cell_type": "code",
   "execution_count": null,
   "metadata": {},
   "outputs": [],
   "source": []
  },
  {
   "cell_type": "code",
   "execution_count": null,
   "metadata": {},
   "outputs": [],
   "source": []
  }
 ],
 "metadata": {
  "colab": {
   "collapsed_sections": [],
   "name": "Copy of 8D_LR_SVM.ipynb",
   "provenance": []
  },
  "kernelspec": {
   "display_name": "Python 3 (ipykernel)",
   "language": "python",
   "name": "python3"
  },
  "language_info": {
   "codemirror_mode": {
    "name": "ipython",
    "version": 3
   },
   "file_extension": ".py",
   "mimetype": "text/x-python",
   "name": "python",
   "nbconvert_exporter": "python",
   "pygments_lexer": "ipython3",
   "version": "3.10.4"
  }
 },
 "nbformat": 4,
 "nbformat_minor": 4
}

